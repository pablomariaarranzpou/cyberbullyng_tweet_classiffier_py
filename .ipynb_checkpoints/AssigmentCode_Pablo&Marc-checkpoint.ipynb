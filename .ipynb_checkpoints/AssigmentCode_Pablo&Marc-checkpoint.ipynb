{
 "cells": [
  {
   "cell_type": "markdown",
   "metadata": {},
   "source": [
    "NOMS I COGNOMS:\n",
    "\n",
    "GRUP:"
   ]
  },
  {
   "cell_type": "markdown",
   "metadata": {},
   "source": [
    "# Naive Bayes i Classificació\n"
   ]
  },
  {
   "cell_type": "markdown",
   "metadata": {},
   "source": [
    "En aquest quart lliurament es programarà un classificador, que donat un tweet el categoritzarà en una de les possibles classes. En aquesta ocasió, implementareu un classificador amb tweets de cyber bullying.\n",
    "\n",
    "\n",
    "**Què s’ha de fer?**\n",
    "\n",
    "Volem classificar tweets segons a quin tipus de cyber bullying pertanyen. Així doncs, a partir de tots els tweets que tenim, crearem un vector de característiques que ens descrigui cadascun. Finalment desenvoluparem un classificador probabilístic del tipus Naive Bayes que ens permeti identificar a quina classe de cyber bullying pertany un tweet donat segons les característiques triades.\n",
    "\n",
    "\n",
    "**Quina és la idea del sistema de classificació que s’ha de desenvolupar?**\n",
    "\n",
    "El classificador és un concepte de l'aprenentatge automàtic supervisat. L'objectiu del classificador és donat un vector de característiques que descriuen els objectes que es volen classificar indicar a quina categoria o classe pertanyen d'entre un conjunt predeterminat. \n",
    "\n",
    "El procés de classificació consta de dues parts: \n",
    "(a) el procés d'aprenentatge i \n",
    "(b) el procés d'explotació o testeig. \n",
    "El procés d'aprenentatge rep exemples de parelles $(x,y)$ on $x$ són les característiques, usualment nombres reals, i $y$ és la categoria a la que pertanyen. \n",
    "Aquest conjunt se'l coneix com a conjunt d'entrenament i ens servirà per trobar una funció $\\hat{y}=h(x)$ que donada una $x$ aconsegueixi que $\\hat{y}=y$. Per altra banda el procés de testeig aplica la funció $h(x)$ apresa a l'entrenament a una nova descripció per veure quina categoria li correspon.\n",
    "\n",
    "\n",
    "**Classificació i llenguatge natural**\n",
    "\n",
    "La descripció dels exemples en característiques és el punt més crític de tot sistema d'aprenentatge automàtic. \n",
    "Una de les representacions més simples per tal de descriure un text és la representació *bag-of-words*.\n",
    "Aquesta representació converteix un text en un vector de $N$ paraules. \n",
    "Consisteix en seleccionar un conjunt d'$N$ paraules i per cada paraula comptar quants cops apareix en el text. \n",
    "Una versió alternativa d'aquest procés pot ser simplement indicar si apareix o no en el text."
   ]
  },
  {
   "cell_type": "markdown",
   "metadata": {},
   "source": [
    "## Abans de començar\n",
    "\n",
    "\n",
    "**\\+ Durant la pràctica, solament es podran fer servir les següents llibreries**:\n",
    "\n",
    "`Pandas, Numpy` i `NLTK`\n",
    "\n",
    "*Nota: A més de les que ja es troben presents en la 1a cel·la i funcions natives de Python*\n",
    "\n",
    "**\\+ No es poden modificar les definicions de les funcions donades, ni canviar els noms de les variables i paràmetres ja donats**\n",
    "\n",
    "Això no implica però que els hàgiu de fer servir. És a dir, que la funció tingui un paràmetre anomenat `df` no implica que l'hàgiu de fer servir, si no ho trobeu convenient.\n",
    "\n",
    "**\\+ En les funcions, s'especifica que serà i de quin tipus cada un dels paràmetres, cal respectar-ho**\n",
    "\n",
    "Per exemple (ho posarà en el pydoc de la funció), `df` sempre serà indicatiu del `Pandas.DataFrame` de les dades. Durant els testos, els paràmetres (i específicament `df`) no contindran les mateixes dades que en aquest notebook, si bé si seran del mateix tipus! Per tant, no us refieu de què tinguin, per exemple, el mateix nombre de files."
   ]
  },
  {
   "cell_type": "markdown",
   "metadata": {},
   "source": [
    "## Més informació del dataset\n",
    "\n",
    "El 15 d'Abril de 2020, UNICEF va llançar una alarma com a resposta de l'augment de risc de cyberbullying durant la pandèmia COVID-19. Les estadístiques són prou alarmants: un 36.5% dels estudiants de l'escola fins a l'institut s'han sentit víctimes del cyberbullying i un 87% l'han observat, amb efectes que van des d'una disminució de resultats acadèmics fins a pensaments suïcides.\n",
    "\n",
    "Amb l'objectiu d'ajudar a l'analisis de la situació, s'ha construit un dataset que conté més de 47000 tweets etiquetats d'acord amb la classe de cyberbullying que s'està donant:\n",
    "\n",
    "1. Age;\n",
    "2. Ethnicity;\n",
    "3. Gender;\n",
    "4. Religion;\n",
    "5. Other type of cyberbullying;\n",
    "6. Not cyberbullying\n",
    "\n",
    "Les dades han estat balancejades per tal de contenir aproximadament 8000 mostres de cada classe."
   ]
  },
  {
   "cell_type": "markdown",
   "metadata": {},
   "source": [
    "# Preparar les dades"
   ]
  },
  {
   "cell_type": "markdown",
   "metadata": {},
   "source": [
    "## Llegim dades"
   ]
  },
  {
   "cell_type": "code",
   "execution_count": 1,
   "metadata": {
    "tags": []
   },
   "outputs": [],
   "source": [
    "import pandas as pd\n",
    "import numpy as np\n",
    "import nltk\n",
    "from nltk.stem import WordNetLemmatizer"
   ]
  },
  {
   "cell_type": "code",
   "execution_count": 2,
   "metadata": {},
   "outputs": [],
   "source": [
    "wnl = WordNetLemmatizer()"
   ]
  },
  {
   "cell_type": "code",
   "execution_count": 3,
   "metadata": {
    "tags": []
   },
   "outputs": [
    {
     "data": {
      "text/html": [
       "<div>\n",
       "<style scoped>\n",
       "    .dataframe tbody tr th:only-of-type {\n",
       "        vertical-align: middle;\n",
       "    }\n",
       "\n",
       "    .dataframe tbody tr th {\n",
       "        vertical-align: top;\n",
       "    }\n",
       "\n",
       "    .dataframe thead th {\n",
       "        text-align: right;\n",
       "    }\n",
       "</style>\n",
       "<table border=\"1\" class=\"dataframe\">\n",
       "  <thead>\n",
       "    <tr style=\"text-align: right;\">\n",
       "      <th></th>\n",
       "      <th>tweet_text</th>\n",
       "      <th>cyberbullying_type</th>\n",
       "    </tr>\n",
       "  </thead>\n",
       "  <tbody>\n",
       "    <tr>\n",
       "      <th>0</th>\n",
       "      <td>In other words #katandandre, your food was cra...</td>\n",
       "      <td>not_cyberbullying</td>\n",
       "    </tr>\n",
       "    <tr>\n",
       "      <th>1</th>\n",
       "      <td>Why is #aussietv so white? #MKR #theblock #ImA...</td>\n",
       "      <td>not_cyberbullying</td>\n",
       "    </tr>\n",
       "    <tr>\n",
       "      <th>2</th>\n",
       "      <td>@XochitlSuckkks a classy whore? Or more red ve...</td>\n",
       "      <td>not_cyberbullying</td>\n",
       "    </tr>\n",
       "    <tr>\n",
       "      <th>3</th>\n",
       "      <td>@Jason_Gio meh. :P  thanks for the heads up, b...</td>\n",
       "      <td>not_cyberbullying</td>\n",
       "    </tr>\n",
       "    <tr>\n",
       "      <th>4</th>\n",
       "      <td>@RudhoeEnglish This is an ISIS account pretend...</td>\n",
       "      <td>not_cyberbullying</td>\n",
       "    </tr>\n",
       "    <tr>\n",
       "      <th>...</th>\n",
       "      <td>...</td>\n",
       "      <td>...</td>\n",
       "    </tr>\n",
       "    <tr>\n",
       "      <th>47687</th>\n",
       "      <td>Black ppl aren't expected to do anything, depe...</td>\n",
       "      <td>ethnicity</td>\n",
       "    </tr>\n",
       "    <tr>\n",
       "      <th>47688</th>\n",
       "      <td>Turner did not withhold his disappointment. Tu...</td>\n",
       "      <td>ethnicity</td>\n",
       "    </tr>\n",
       "    <tr>\n",
       "      <th>47689</th>\n",
       "      <td>I swear to God. This dumb nigger bitch. I have...</td>\n",
       "      <td>ethnicity</td>\n",
       "    </tr>\n",
       "    <tr>\n",
       "      <th>47690</th>\n",
       "      <td>Yea fuck you RT @therealexel: IF YOURE A NIGGE...</td>\n",
       "      <td>ethnicity</td>\n",
       "    </tr>\n",
       "    <tr>\n",
       "      <th>47691</th>\n",
       "      <td>Bro. U gotta chill RT @CHILLShrammy: Dog FUCK ...</td>\n",
       "      <td>ethnicity</td>\n",
       "    </tr>\n",
       "  </tbody>\n",
       "</table>\n",
       "<p>47692 rows × 2 columns</p>\n",
       "</div>"
      ],
      "text/plain": [
       "                                              tweet_text cyberbullying_type\n",
       "0      In other words #katandandre, your food was cra...  not_cyberbullying\n",
       "1      Why is #aussietv so white? #MKR #theblock #ImA...  not_cyberbullying\n",
       "2      @XochitlSuckkks a classy whore? Or more red ve...  not_cyberbullying\n",
       "3      @Jason_Gio meh. :P  thanks for the heads up, b...  not_cyberbullying\n",
       "4      @RudhoeEnglish This is an ISIS account pretend...  not_cyberbullying\n",
       "...                                                  ...                ...\n",
       "47687  Black ppl aren't expected to do anything, depe...          ethnicity\n",
       "47688  Turner did not withhold his disappointment. Tu...          ethnicity\n",
       "47689  I swear to God. This dumb nigger bitch. I have...          ethnicity\n",
       "47690  Yea fuck you RT @therealexel: IF YOURE A NIGGE...          ethnicity\n",
       "47691  Bro. U gotta chill RT @CHILLShrammy: Dog FUCK ...          ethnicity\n",
       "\n",
       "[47692 rows x 2 columns]"
      ]
     },
     "execution_count": 3,
     "metadata": {},
     "output_type": "execute_result"
    }
   ],
   "source": [
    "df = pd.read_csv('data/cyberbullying_tweets.csv')\n",
    "df"
   ]
  },
  {
   "cell_type": "code",
   "execution_count": 4,
   "metadata": {},
   "outputs": [
    {
     "data": {
      "text/plain": [
       "religion               7998\n",
       "age                    7992\n",
       "gender                 7973\n",
       "ethnicity              7961\n",
       "not_cyberbullying      7945\n",
       "other_cyberbullying    7823\n",
       "Name: cyberbullying_type, dtype: int64"
      ]
     },
     "execution_count": 4,
     "metadata": {},
     "output_type": "execute_result"
    }
   ],
   "source": [
    "df['cyberbullying_type'].value_counts()"
   ]
  },
  {
   "cell_type": "markdown",
   "metadata": {},
   "source": [
    "## Dividim dataset\n",
    "\n",
    "Dividim els tweets en un conjunt d'entrenament, *train*, i en un conjunt de validació, *test*, per tal de poder entrenar i validar el nostre model de ML."
   ]
  },
  {
   "cell_type": "code",
   "execution_count": 5,
   "metadata": {},
   "outputs": [],
   "source": [
    "from sklearn.model_selection import train_test_split\n",
    "\n",
    "df_tweets_train, df_tweets_test = train_test_split(df, test_size=0.20)"
   ]
  },
  {
   "cell_type": "markdown",
   "metadata": {},
   "source": [
    "Com les dades estaven balancejades originalment, podem observar que la distribució de cadascuna de les classes es manté:"
   ]
  },
  {
   "cell_type": "code",
   "execution_count": 6,
   "metadata": {},
   "outputs": [
    {
     "data": {
      "text/plain": [
       "religion               6387\n",
       "ethnicity              6373\n",
       "age                    6372\n",
       "gender                 6362\n",
       "not_cyberbullying      6339\n",
       "other_cyberbullying    6320\n",
       "Name: cyberbullying_type, dtype: int64"
      ]
     },
     "execution_count": 6,
     "metadata": {},
     "output_type": "execute_result"
    }
   ],
   "source": [
    "df_tweets_train['cyberbullying_type'].value_counts()"
   ]
  },
  {
   "cell_type": "code",
   "execution_count": 7,
   "metadata": {},
   "outputs": [
    {
     "data": {
      "text/plain": [
       "age                    1620\n",
       "religion               1611\n",
       "gender                 1611\n",
       "not_cyberbullying      1606\n",
       "ethnicity              1588\n",
       "other_cyberbullying    1503\n",
       "Name: cyberbullying_type, dtype: int64"
      ]
     },
     "execution_count": 7,
     "metadata": {},
     "output_type": "execute_result"
    }
   ],
   "source": [
    "df_tweets_test['cyberbullying_type'].value_counts()"
   ]
  },
  {
   "cell_type": "markdown",
   "metadata": {},
   "source": [
    "# Implementació\n",
    "\n",
    "Dividirem el notebook en 3 seccions que es complementen una a l'altra:\n",
    "\n",
    "1. Anàlisis de dades: Informació bàsica sobre els tweets\n",
    "2. Processament de les dades: Creació d'un vector de característiques a partir dels tweets\n",
    "3. Classificació amb Naive Bayes"
   ]
  },
  {
   "cell_type": "markdown",
   "metadata": {},
   "source": [
    "### 1. Anàlisis de dades\n",
    "\n",
    "El primer que haurem de fer és analitzar les dades per veure una mica com són. El que us proposem és fer una sèrie de plots per observar dades com ara:\n",
    "\n",
    "* quants tweets s'estan dirigint a una persona en concret\n",
    "* quants hastags hi ha a cada categoria de tweets\n",
    "* quants tweets hi ha de cada categoria\n",
    "* quants tweets de la categoria \"not_cyberbullying\" és dirigeixen a un usuari vs totes les altres categories\n",
    "* altres coses que penseu que poden ser rellevants"
   ]
  },
  {
   "cell_type": "code",
   "execution_count": 8,
   "metadata": {},
   "outputs": [],
   "source": [
    "import matplotlib.pyplot as plt\n",
    "import re\n",
    "%matplotlib inline"
   ]
  },
  {
   "cell_type": "code",
   "execution_count": 9,
   "metadata": {
    "tags": []
   },
   "outputs": [
    {
     "data": {
      "text/html": [
       "<div>\n",
       "<style scoped>\n",
       "    .dataframe tbody tr th:only-of-type {\n",
       "        vertical-align: middle;\n",
       "    }\n",
       "\n",
       "    .dataframe tbody tr th {\n",
       "        vertical-align: top;\n",
       "    }\n",
       "\n",
       "    .dataframe thead th {\n",
       "        text-align: right;\n",
       "    }\n",
       "</style>\n",
       "<table border=\"1\" class=\"dataframe\">\n",
       "  <thead>\n",
       "    <tr style=\"text-align: right;\">\n",
       "      <th></th>\n",
       "      <th>tweet_text</th>\n",
       "      <th>cyberbullying_type</th>\n",
       "    </tr>\n",
       "  </thead>\n",
       "  <tbody>\n",
       "    <tr>\n",
       "      <th>15981</th>\n",
       "      <td>@Vandaliser @sajid_fairooz @IsraeliRegime Ther...</td>\n",
       "      <td>religion</td>\n",
       "    </tr>\n",
       "    <tr>\n",
       "      <th>3790</th>\n",
       "      <td>@erinjmccarty YUP. Clemson Uni.</td>\n",
       "      <td>not_cyberbullying</td>\n",
       "    </tr>\n",
       "    <tr>\n",
       "      <th>28499</th>\n",
       "      <td>@beardyblue OH. I think I remember. yeah, i wi...</td>\n",
       "      <td>other_cyberbullying</td>\n",
       "    </tr>\n",
       "    <tr>\n",
       "      <th>14283</th>\n",
       "      <td>y’all gotta cut it tf out. you been in females...</td>\n",
       "      <td>gender</td>\n",
       "    </tr>\n",
       "    <tr>\n",
       "      <th>27855</th>\n",
       "      <td>@Azeeezah LMAO!!! Babes...you could never bull...</td>\n",
       "      <td>other_cyberbullying</td>\n",
       "    </tr>\n",
       "  </tbody>\n",
       "</table>\n",
       "</div>"
      ],
      "text/plain": [
       "                                              tweet_text   cyberbullying_type\n",
       "15981  @Vandaliser @sajid_fairooz @IsraeliRegime Ther...             religion\n",
       "3790                     @erinjmccarty YUP. Clemson Uni.    not_cyberbullying\n",
       "28499  @beardyblue OH. I think I remember. yeah, i wi...  other_cyberbullying\n",
       "14283  y’all gotta cut it tf out. you been in females...               gender\n",
       "27855  @Azeeezah LMAO!!! Babes...you could never bull...  other_cyberbullying"
      ]
     },
     "execution_count": 9,
     "metadata": {},
     "output_type": "execute_result"
    }
   ],
   "source": [
    "df_tweets_train.head()"
   ]
  },
  {
   "cell_type": "markdown",
   "metadata": {},
   "source": [
    "#### **EXERCICI 1:** FEU EL VOSTRE ANALISIS DE DADES AQUÍ"
   ]
  },
  {
   "cell_type": "markdown",
   "metadata": {},
   "source": [
    "> your code here"
   ]
  },
  {
   "cell_type": "code",
   "execution_count": 10,
   "metadata": {},
   "outputs": [
    {
     "data": {
      "image/png": "[encoded data removed]",
      "text/plain": [
       "<Figure size 432x288 with 1 Axes>"
      ]
     },
     "metadata": {
      "needs_background": "light"
     },
     "output_type": "display_data"
    }
   ],
   "source": [
    "def plot_directed_to_person(df):\n",
    "    \"\"\"\n",
    "    Funció que ha de generar un gràfic que mostri el nombre de tweets que són dirigits a una persona\n",
    "    en funció del tipus de cyberbullying.\n",
    "    \n",
    "    :param df: DataFrame amb els tweets i la informació associada\n",
    "    :return : None\n",
    "    \"\"\"\n",
    "    df['directed_to_person'] = df['tweet_text'].apply(lambda x: 1 if '@' in x else 0)\n",
    "    df.groupby('cyberbullying_type')['directed_to_person'].sum().plot.bar()\n",
    "    plt.title(\"Nombre de tweets que són dirigits a una persona en funció del tipus de cyberbullying.\")\n",
    "    plt.show()\n",
    "    \n",
    "plot_directed_to_person(df)"
   ]
  },
  {
   "cell_type": "code",
   "execution_count": 11,
   "metadata": {},
   "outputs": [
    {
     "data": {
      "image/png": "[encoded data removed]",
      "text/plain": [
       "<Figure size 432x288 with 1 Axes>"
      ]
     },
     "metadata": {
      "needs_background": "light"
     },
     "output_type": "display_data"
    }
   ],
   "source": [
    "def count_hashtags(df):\n",
    "    \"\"\"\n",
    "    Funció que ha de generar un gràfic que mostri el nombre de hashtags que s'han trobat en cada tweet.\n",
    "    \n",
    "    :param df: DataFrame amb els tweets i la informació associada\n",
    "    :return : None\n",
    "    \"\"\"\n",
    "    df['hashtags'] = df['tweet_text'].apply(lambda x: len(re.findall(r'#\\w+', x)))\n",
    "    df.groupby('cyberbullying_type')['hashtags'].sum().plot.bar()\n",
    "    plt.title(\"Nombre de hashtags que s'han trobat en cada tweet.\")\n",
    "    plt.show()\n",
    "    \n",
    "count_hashtags(df)"
   ]
  },
  {
   "cell_type": "code",
   "execution_count": 12,
   "metadata": {},
   "outputs": [
    {
     "data": {
      "image/png": "[encoded data removed]",
      "text/plain": [
       "<Figure size 432x288 with 1 Axes>"
      ]
     },
     "metadata": {
      "needs_background": "light"
     },
     "output_type": "display_data"
    }
   ],
   "source": [
    "def plot_cyberbullying_type(df):\n",
    "    \"\"\"\n",
    "    Funció que ha de generar un gràfic que mostri el nombre de tweets per a cada tipus de cyberbullying.\n",
    "    \n",
    "    :param df: DataFrame amb els tweets i la informació associada\n",
    "    :return : None\n",
    "    \"\"\"\n",
    "    df.groupby('cyberbullying_type').count()['tweet_text'].plot.bar()\n",
    "    plt.title(\"nombre de tweets per a cada tipus de cyberbullying.\")\n",
    "    plt.show()\n",
    "    \n",
    "    \n",
    "plot_cyberbullying_type(df)"
   ]
  },
  {
   "cell_type": "code",
   "execution_count": 13,
   "metadata": {},
   "outputs": [
    {
     "data": {
      "image/png": "[encoded data removed]",
      "text/plain": [
       "<Figure size 432x288 with 1 Axes>"
      ]
     },
     "metadata": {
      "needs_background": "light"
     },
     "output_type": "display_data"
    }
   ],
   "source": [
    "def plot_retweets(df):\n",
    "    \"\"\"\n",
    "    Funció que ha de generar un gràfic que mostri el nombre de tweets que són retweets\n",
    "    en funció del tipus de cyberbullying.\n",
    "    \n",
    "    :param df: DataFrame amb els tweets i la informació associada\n",
    "    :return : None\n",
    "    \"\"\"\n",
    "    df['retweet'] = df['tweet_text'].apply(lambda x: 1 if 'RT ' in x[:3] else 0)\n",
    "    df.groupby('cyberbullying_type')['retweet'].sum().plot.bar()\n",
    "    plt.title(\"nombre de tweets que són retweets en funció del tipus de cyberbullying\")\n",
    "    plt.show()\n",
    "\n",
    "plot_retweets(df)"
   ]
  },
  {
   "cell_type": "code",
   "execution_count": 14,
   "metadata": {},
   "outputs": [
    {
     "data": {
      "image/png": "[encoded data removed]",
      "text/plain": [
       "<Figure size 432x288 with 1 Axes>"
      ]
     },
     "metadata": {
      "needs_background": "light"
     },
     "output_type": "display_data"
    }
   ],
   "source": [
    "def plot_mentioned_persons(df):\n",
    "    \"\"\"\n",
    "    Funció que ha de generar un gràfic que mostri el nombre de persones que s'han trobat en cada tweet.\n",
    "    \n",
    "    :param df: DataFrame amb els tweets i la informació associada\n",
    "    :return : None\n",
    "    \"\"\"\n",
    "    df['mentioned_persons'] = df['tweet_text'].apply(lambda x: len(re.findall(r'@\\w+', x)))\n",
    "    df.groupby('cyberbullying_type')['mentioned_persons'].sum().plot.bar()\n",
    "    plt.title(\"nombre de tweets que són retweets en funció del tipus de cyberbullying\")\n",
    "    plt.show()\n",
    "\n",
    "    \n",
    "plot_mentioned_persons(df)"
   ]
  },
  {
   "cell_type": "code",
   "execution_count": 15,
   "metadata": {},
   "outputs": [
    {
     "data": {
      "image/png": "[encoded data removed]",
      "text/plain": [
       "<Figure size 432x288 with 1 Axes>"
      ]
     },
     "metadata": {
      "needs_background": "light"
     },
     "output_type": "display_data"
    }
   ],
   "source": [
    "def plot_word(df, word):\n",
    "    \"\"\"\n",
    "    AQUESTA FUNCIÓ ENS SERÁ MOLT UTIL PER VEURE COM DE VALIOSES SON LES PARAULES A LA FUNCIÓ TP_N WORDS\n",
    "    \"\"\"\n",
    "    df['obama'] = df['tweet_text'].apply(lambda x: 1 if word in x.lower() else 0)\n",
    "    df.groupby('cyberbullying_type')['obama'].sum().plot.bar()\n",
    "    plt.show()\n",
    "    \n",
    "plot_word(df, 'muslim')"
   ]
  },
  {
   "cell_type": "code",
   "execution_count": 16,
   "metadata": {},
   "outputs": [
    {
     "data": {
      "image/png": "[encoded data removed]",
      "text/plain": [
       "<Figure size 432x288 with 1 Axes>"
      ]
     },
     "metadata": {
      "needs_background": "light"
     },
     "output_type": "display_data"
    }
   ],
   "source": [
    "plot_word(df, 'nigga')"
   ]
  },
  {
   "cell_type": "code",
   "execution_count": 17,
   "metadata": {},
   "outputs": [
    {
     "data": {
      "image/png": "[encoded data removed]",
      "text/plain": [
       "<Figure size 432x288 with 1 Axes>"
      ]
     },
     "metadata": {
      "needs_background": "light"
     },
     "output_type": "display_data"
    }
   ],
   "source": [
    "plot_word(df, 'rape')"
   ]
  },
  {
   "cell_type": "code",
   "execution_count": null,
   "metadata": {},
   "outputs": [],
   "source": []
  },
  {
   "cell_type": "markdown",
   "metadata": {},
   "source": [
    "### Comptar paraules\n",
    "\n",
    "El primer que haurem d'implementar és la funció *normalize* que normalitzarà les paraules.\n",
    "\n",
    "\n",
    "No modificar la següent cel·la, s'encarrega de fer el proce"
   ]
  },
  {
   "cell_type": "code",
   "execution_count": 19,
   "metadata": {
    "tags": []
   },
   "outputs": [],
   "source": [
    "def memo(f):\n",
    "    class memodict(dict):\n",
    "        def __init__(self, f):\n",
    "            self.f = f\n",
    "        def __call__(self, *args):\n",
    "            return self[args]\n",
    "        def __missing__(self, key):\n",
    "            ret = self[key] = self.f(*key)\n",
    "            return ret\n",
    "    return memodict(f)"
   ]
  },
  {
   "cell_type": "markdown",
   "metadata": {},
   "source": [
    "#### **EXERCICI 2:** \n",
    "\n",
    "Empleneu la funció següent que, donada una paraula, la normalitzi passant tots els digits a minúscules."
   ]
  },
  {
   "cell_type": "code",
   "execution_count": 20,
   "metadata": {
    "tags": []
   },
   "outputs": [],
   "source": [
    "import re\n",
    "@memo    \n",
    "def normalize(word):\n",
    "    \"\"\"\n",
    "    Funció que donada una paraula la normalitzi\n",
    "    Exemple: Taller DELS noUS USOS ---> tallers dels nous usos\n",
    "    \n",
    "    :param word: paraula a normalitzar\n",
    "    :return : paraula normalitzada\n",
    "    \"\"\"\n",
    "    # Passem tot a minuscules\n",
    "    word = word.lower()\n",
    "    \n",
    "    word = re.sub(r'rt \\S+: ', '', word)\n",
    "    \n",
    "    # Eliminem tots els usuaris\n",
    "    word = re.sub(r'@\\S+ ','', word)\n",
    "    \n",
    "    # Eliminem tots els signes de puntuació\n",
    "    word = re.sub(r'[^\\w\\s]', '', word)\n",
    " \n",
    "    #Eliminem tots els links\n",
    "    word = re.sub(r'http\\w+', '', word)\n",
    "    \n",
    "    #Eliminem els signes de hashtag pero no la paraula (pensem que pot ser descriptiu)\n",
    "    word = word.replace(\"#\", '')\n",
    "    \n",
    "    #Eliminem tots els números\n",
    "    word = re.sub(r'\\d+', '', word)\n",
    "    \n",
    "    \n",
    "    return word"
   ]
  },
  {
   "cell_type": "code",
   "execution_count": 40,
   "metadata": {},
   "outputs": [
    {
     "name": "stdout",
     "output_type": "stream",
     "text": [
      "RT @ikercasillas: You i love dogs speccialy my dog @vinicusjr you're or you´re finished. I´ve or I've found something... Look at this=http//wwww.google.com luego dirás que no doy #knowdlege\n",
      "you i love dogs speccialy my dog youre or youre finished ive or ive found something look at this luego dirás que no doy knowdlege\n",
      "['you', 'i', 'love', 'dogs', 'speccialy', 'my', 'dog', 'youre', 'or', 'youre', 'finished', 'ive', 'or', 'ive', 'found', 'something', 'look', 'at', 'this', 'luego', 'dirás', 'que', 'no', 'doy', 'knowdlege']\n"
     ]
    }
   ],
   "source": [
    "wordel = \"RT @ikercasillas: You i love dogs speccialy my dog @vinicusjr you're or you´re finished. I´ve or I've found something... Look at this=http//wwww.google.com luego dirás que no doy #knowdlege\"\n",
    "print(wordel)\n",
    "wordel = normalize(wordel)\n",
    "print(wordel)\n",
    "print(wordel.split(\" \"))"
   ]
  },
  {
   "cell_type": "markdown",
   "metadata": {},
   "source": [
    "#### **EXERCICI 3:** \n",
    "\n",
    "Feu una funció que construeixi un diccionari que contingui totes les paraules que s'han trobat tot indicant el total de cops que ha aparegut cadascuna i el nombre de tweets on apareix. Més a baix teniu un exemple de l'estructura que ha de tenir el output de la funció."
   ]
  },
  {
   "cell_type": "code",
   "execution_count": 22,
   "metadata": {
    "scrolled": true,
    "tags": []
   },
   "outputs": [],
   "source": [
    "def count_words(df):\n",
    "    \"\"\"\n",
    "    Funció que ha de construir un diccionari que contingui totes les paraules que s'han trobat indicant\n",
    "    el total de cops que ha aparegut i el nombre de tweets on apareix\n",
    "    \n",
    "    :param df: DataFrame amb els tweets i la informació associada\n",
    "    :return : Diccionari amb el format {word : {n_ocur: valor, n_tweets: valor}, ...}\n",
    "    \"\"\"\n",
    "\n",
    "    dictionary = {}\n",
    "\n",
    "\n",
    "    for tweet in df['tweet_text']:\n",
    "        \n",
    "        tweet = normalize(tweet)\n",
    "        \n",
    "        words = tweet.split(\" \")\n",
    "        \n",
    "        set_readed = set()\n",
    "        \n",
    "        for word in words:\n",
    "            \n",
    "            if(len(word) > 2):\n",
    "                \n",
    "                if word in dictionary.keys():\n",
    "\n",
    "                    dictionary[word]['n_ocur'] += 1\n",
    "\n",
    "\n",
    "                    if word not in set_readed:\n",
    "\n",
    "                        dictionary[word]['n_tweets'] += 1\n",
    "\n",
    "                    set_readed.add(word)\n",
    "\n",
    "                else:\n",
    "                    dictionary[word] = {'n_ocur': 1, 'n_tweets': 1}\n",
    "\n",
    "    return dictionary "
   ]
  },
  {
   "cell_type": "code",
   "execution_count": 23,
   "metadata": {},
   "outputs": [
    {
     "name": "stdout",
     "output_type": "stream",
     "text": [
      "{'n_ocur': 521, 'n_tweets': 472}\n",
      "41919\n"
     ]
    }
   ],
   "source": [
    "dicc_text = count_words(df_tweets_train)\n",
    "print(dicc_text[\"word\"])\n",
    "print (len(dicc_text))"
   ]
  },
  {
   "cell_type": "markdown",
   "metadata": {},
   "source": [
    "El resultat serà un diccionari tipus (no necessàriament amb aquest valors):\n",
    "\n",
    "```python\n",
    "{\n",
    "    'memory' : {'n_ocur': 88, 'n_tweets': 76},\n",
    "    'best': {'n_ocur': 123, 'n_tweets': 65},\n",
    "    ...\n",
    "}\n",
    "```"
   ]
  },
  {
   "cell_type": "markdown",
   "metadata": {},
   "source": [
    "### Contar paraules per cada categoria de tweet"
   ]
  },
  {
   "cell_type": "code",
   "execution_count": 24,
   "metadata": {},
   "outputs": [
    {
     "data": {
      "text/html": [
       "<div>\n",
       "<style scoped>\n",
       "    .dataframe tbody tr th:only-of-type {\n",
       "        vertical-align: middle;\n",
       "    }\n",
       "\n",
       "    .dataframe tbody tr th {\n",
       "        vertical-align: top;\n",
       "    }\n",
       "\n",
       "    .dataframe thead th {\n",
       "        text-align: right;\n",
       "    }\n",
       "</style>\n",
       "<table border=\"1\" class=\"dataframe\">\n",
       "  <thead>\n",
       "    <tr style=\"text-align: right;\">\n",
       "      <th></th>\n",
       "      <th>tweet_text</th>\n",
       "      <th>cyberbullying_type</th>\n",
       "    </tr>\n",
       "  </thead>\n",
       "  <tbody>\n",
       "    <tr>\n",
       "      <th>15981</th>\n",
       "      <td>@Vandaliser @sajid_fairooz @IsraeliRegime Ther...</td>\n",
       "      <td>religion</td>\n",
       "    </tr>\n",
       "    <tr>\n",
       "      <th>3790</th>\n",
       "      <td>@erinjmccarty YUP. Clemson Uni.</td>\n",
       "      <td>not_cyberbullying</td>\n",
       "    </tr>\n",
       "    <tr>\n",
       "      <th>28499</th>\n",
       "      <td>@beardyblue OH. I think I remember. yeah, i wi...</td>\n",
       "      <td>other_cyberbullying</td>\n",
       "    </tr>\n",
       "    <tr>\n",
       "      <th>14283</th>\n",
       "      <td>y’all gotta cut it tf out. you been in females...</td>\n",
       "      <td>gender</td>\n",
       "    </tr>\n",
       "    <tr>\n",
       "      <th>27855</th>\n",
       "      <td>@Azeeezah LMAO!!! Babes...you could never bull...</td>\n",
       "      <td>other_cyberbullying</td>\n",
       "    </tr>\n",
       "  </tbody>\n",
       "</table>\n",
       "</div>"
      ],
      "text/plain": [
       "                                              tweet_text   cyberbullying_type\n",
       "15981  @Vandaliser @sajid_fairooz @IsraeliRegime Ther...             religion\n",
       "3790                     @erinjmccarty YUP. Clemson Uni.    not_cyberbullying\n",
       "28499  @beardyblue OH. I think I remember. yeah, i wi...  other_cyberbullying\n",
       "14283  y’all gotta cut it tf out. you been in females...               gender\n",
       "27855  @Azeeezah LMAO!!! Babes...you could never bull...  other_cyberbullying"
      ]
     },
     "execution_count": 24,
     "metadata": {},
     "output_type": "execute_result"
    }
   ],
   "source": [
    "df_tweets_train.head()"
   ]
  },
  {
   "cell_type": "markdown",
   "metadata": {},
   "source": [
    "#### **EXERCICI 4:** \n",
    "\n",
    "Fent servir la funció que se us dona a continuació (eachTopic), apliqueu-la per tal de comptar les paraules que s'han trobat i la seva ocurrència segregant ara per categoria."
   ]
  },
  {
   "cell_type": "code",
   "execution_count": 25,
   "metadata": {
    "tags": []
   },
   "outputs": [],
   "source": [
    "def count_words_categories(df):\n",
    "    \"\"\"\n",
    "    Funció que ha de constuir un diccionari que conté la freqüència de les \n",
    "    paraules i el número de tweets on ha aparegut. \n",
    "    Aquesta informació ha de ser dividida per diferents categories de cyberbullying.\n",
    "    \n",
    "    :param df: DataFrame amb els tweets i la informació associada\n",
    "    :return : Diccionari amb el format {label : {word : {n_ocur: valor, n_news: valor} } }\n",
    "    \"\"\"\n",
    "    words_topic = {}\n",
    "    \n",
    "    def eachTopic(group):\n",
    "        # Count words on this topic and save to dictionary\n",
    "        words_topic[group['cyberbullying_type'].iloc[0]] = count_words(group)\n",
    "\n",
    "    # Group by topics and apply function to each topic\n",
    "    \n",
    "    df.groupby('cyberbullying_type').apply(eachTopic)\n",
    "    \n",
    "    return words_topic"
   ]
  },
  {
   "cell_type": "code",
   "execution_count": 26,
   "metadata": {},
   "outputs": [
    {
     "name": "stdout",
     "output_type": "stream",
     "text": [
      "6\n"
     ]
    }
   ],
   "source": [
    "words_categories = count_words_categories(df_tweets_train)\n",
    "print (len(words_categories))\n"
   ]
  },
  {
   "cell_type": "markdown",
   "metadata": {},
   "source": [
    "El resultat serà un diccionari tipus (no necessàriament amb aquest valors):\n",
    "\n",
    "```python\n",
    "{\n",
    "    'ethnicity': {\n",
    "        'race' : {'n_ocur': 88, 'n_tweets': 76},\n",
    "        'what': {'n_ocur': 123, 'n_tweets': 65}\n",
    "        ...\n",
    "    },\n",
    "    ...\n",
    "    'gender': {\n",
    "        'jokes' : {'n_ocur': 18, 'n_tweets': 17},\n",
    "        'you': {'n_ocur': 154, 'n_tweets': 66}\n",
    "    }\n",
    "    ...\n",
    "}\n",
    "```"
   ]
  },
  {
   "cell_type": "markdown",
   "metadata": {},
   "source": [
    "### Paraules més freqüents als tweets\n",
    "\n",
    "\n",
    "**El problema de com escollir el vector de carecterístiques**\n",
    "\n",
    "L'elecció de les paraules que formen el vector de característiques és un pas crític. En funció de com de bona sigui aquesta descripció, millor funcionarà el sistema. Tot i que us deixem a vosaltres la política de creació del vector de característiques us donem una pista: per saber quines paraules fer servir una possible estratègia és agafar aquelles paraules que apareixen entre en un 10 i un 50 percent del total (sense tenir en compte la categoria). \n",
    "\n",
    "Podeu experimentar variant aquests valors."
   ]
  },
  {
   "cell_type": "markdown",
   "metadata": {},
   "source": [
    "#### **EXERCICI 5:** \n",
    "\n",
    "Experimenteu omplint la llista *skip_top* amb aquelles paraules que penseu no tenen significat o relevancia per definir cada categoria. Podeu buscar informació sobre **stop words** a internet i definir varies llistes fins que penseu que obteniu una bona representació de paraules per categoria de cyberbullying."
   ]
  },
  {
   "cell_type": "code",
   "execution_count": null,
   "metadata": {},
   "outputs": [],
   "source": []
  },
  {
   "cell_type": "code",
   "execution_count": 45,
   "metadata": {
    "tags": []
   },
   "outputs": [],
   "source": [
    "skip_top = ['dont', 'ive', 'dont', 'didnt', 'didnt', 'doesnt', 'able', 'about',\n",
    "            'above', 'abroad', 'according', 'accordingly', 'acros', 'actually',\n",
    "            'adj', 'after', 'afterward', 'again', 'against', 'ago', 'ahead', 'aint',\n",
    "            'all', 'allow', 'allow', 'almost', 'alone', 'along', 'alongside', 'already',\n",
    "            'also', 'although', 'alway', 'amid', 'amidst', 'among', 'amongst', 'and',\n",
    "            'another', 'any', 'anybody', 'anyhow', 'anyone', 'anything', 'anyway', 'anyways',\n",
    "            'anywhere', 'apart', 'appear', 'appreciate', 'appropriate', 'are', 'arent', 'around',\n",
    "            'aside', 'ask', 'asking', 'associated', 'available', 'away', 'awfully', 'back',\n",
    "            'backward', 'backwards', 'became', 'because', 'become', 'becomes', 'becoming',\n",
    "            'been', 'before', 'beforehand', 'begin', 'behind', 'being', 'believe', 'below',\n",
    "            'beside', 'besides', 'best', 'better', 'between', 'beyond', 'both', 'brief', 'but',\n",
    "            'came', 'can', 'cannot', 'cant', 'cant', 'caption', 'cause', 'causes', 'rtm', 'certain',\n",
    "            'certainly', 'changes', 'clearly', 'cmon', 'co.', 'com', 'come', 'comes', 'concerning',\n",
    "            'isnt', 'consequently', 'consider', 'considering', 'contain', 'containing', 'contains',\n",
    "            'corresponding', 'could', 'couldnt', 'course', 'currently', 'dare', 'darent', 'definitely',\n",
    "            'described', 'despite', 'did', 'didnt', 'different', 'directly', 'does', 'doesnt', 'doing',\n",
    "            'done', 'dont', 'down', 'downwards', 'during', 'each', 'edu', 'eight', 'eighty', 'either',\n",
    "            'else', 'elsewhere', 'end', 'ending', 'enough', 'entirely', 'especially', 'etc', 'even',\n",
    "            'donâ€™t', 'ever', 'evermore', 'every', 'everybody', 'its', 'everyone', 'everything',\n",
    "            'everywhere', 'exactly', 'example', 'except', 'fairly', 'far', 'farther', 'few', 'fewer',\n",
    "            'fifth', 'first', 'five', 'followed', 'following', 'follows', 'for', 'forever', 'former',\n",
    "            'formerly', 'forth', 'forward', 'found', 'four', 'from', 'further', 'furthermore', 'get',\n",
    "            'gets', 'getting', 'given', 'gives', 'goes', 'going', 'gone', 'got', 'gotten', 'greetings',\n",
    "            'had', 'hadnt', 'half', 'happens', 'hardly', 'has', 'hasnt', 'have', 'havent', 'having',\n",
    "            'hed', 'hell', 'hello', 'help', 'hence', 'her', 'here', 'hereafter', 'hereby', 'herein',\n",
    "            'heres', 'hereupon', 'hers', 'herself', 'theyre', 'hes', 'him', 'himself', 'his', 'hither',\n",
    "            'hopefully', 'how', 'howbeit', 'however', 'hundred', 'ignored', 'ill', 'immediate', 'inasmuch',\n",
    "            'inc', 'inc.', 'indeed', 'indicate', 'indicated', 'indicates', 'inner', 'inside', 'insofar',\n",
    "            'instead', 'into', 'inward', 'isnt', 'itd', 'itll', 'its', 'its', 'itself', 'ive', 'just', 'keep',\n",
    "            'keep', 'kept', 'know', 'known', 'knows', 'last', 'lately', 'later', 'latter', 'latterly',\n",
    "            'least', 'les', 'lest', 'let', 'let', 'like', 'liked', 'likely', 'likewise', 'yall', 'little',\n",
    "            'making', 'did', 'look', 'looking', 'looks', 'low', 'lower', 'ltd', 'made', 'mainly', 'make',\n",
    "            'makes', 'amp', 'many', 'may', 'maybe', 'maynt', 'mean', 'meantime', 'meanwhile', 'merely',\n",
    "            'might', 'mightnt', 'mine', 'minus', 'miss', 'more', 'moreover', 'most', 'mostly', 'mrs',\n",
    "            'much', 'must', 'mustnt', 'myself', 'name', 'namely', 'near', 'nearly', 'necessary', 'need',\n",
    "            'neednt', 'needs', 'neither', 'never', 'neverf', 'neverless', 'nevertheless', 'new', 'next',\n",
    "            'nine', 'ninety', 'nobody', 'non', 'none', 'nonetheless', 'noone', 'no-one', 'nor', 'normally',\n",
    "            'not', 'nothing', 'notwithstanding', 'novel', 'now', 'nowhere', 'obviously', 'off', 'often',\n",
    "            'okay', 'old', 'once', 'one', 'ones', 'only', 'onto', 'opposite', 'other', 'others', 'otherwise',\n",
    "            'ought', 'oughtnt', 'our', 'ours', 'ourselves', 'out', 'outside', 'over', 'overall', 'own',\n",
    "            'particular', 'particularly', 'past', 'per', 'perhaps', 'placed', 'please', 'plus', 'possible',\n",
    "            'presumably', 'probably', 'provided', 'provides', 'que', 'quite', 'rather', 'really',\n",
    "            'reasonably', 'recent', 'recently', 'regarding', 'regardless', 'regards', 'relatively',\n",
    "            'respectively', 'right', 'round', 'said', 'same', 'saw', 'say', 'saying', 'says', 'second',\n",
    "            'secondly', 'see', 'seeing', 'seem', 'seemed', 'seeming', 'seems', 'seen', 'self', 'selves',\n",
    "            'sensible', 'sent', 'serious', 'seriously', 'seven', 'several', 'shall', 'shant', 'she',\n",
    "            'shed', 'shell', 'shes', 'should', 'shouldnt', 'since', 'six', 'some', 'somebody',\n",
    "            'someday', 'somehow', 'someone', 'something', 'sometime', 'sometimes', 'somewhat', 'somewhere',\n",
    "            'soon', 'sorry', 'specified', 'specify', 'specifying', 'still', 'sub', 'such', 'sup', 'sure',\n",
    "            'take', 'taken', 'taking', 'tell', 'tends', 'than', 'thank', 'thanks', 'thanx', 'that', 'thatll',\n",
    "            'thats', 'thats', 'thatve', 'the', 'their', 'theirs', 'them', 'themselves', 'then', 'thence',\n",
    "            'there', 'thereafter', 'thereby', 'thered', 'therefore', 'therein', 'therell', 'therere',\n",
    "            'theres', 'theres', 'thereupon', 'thereve', 'these', 'they', 'theyd', 'theyll', 'theyre',\n",
    "            'theyve', 'thing', 'things', 'think', 'third', 'thirty', 'this', 'thorough', 'thoroughly',\n",
    "            'those', 'though', 'three', 'through', 'throughout', 'thru', 'thus', 'till', 'together', 'too',\n",
    "            'took', 'toward', 'towards', 'tried', 'tries', 'truly', 'try', 'trying', \"t's\", 'twice', 'two',\n",
    "            'under', 'underneath', 'undoing', 'unfortunately', 'unless', 'unlike', 'unlikely', 'until',\n",
    "            'unto', 'upon', 'upwards', 'use', 'used', 'useful', 'uses', 'using', 'usually', 'value', 'various',\n",
    "            'versus', 'very', 'via', 'viz', 'want', 'wants', 'was', 'wasnt', 'way', 'wed', 'welcome', 'well',\n",
    "            'went', 'were', 'werent', 'weve', 'what', 'whatever', 'whatll', 'whats', 'whatve', 'when', 'whence',\n",
    "            'whenever', 'where', 'whereafter', 'whereas', 'whereby', 'wherein', 'wheres', 'whereupon', 'wherever',\n",
    "            'whether', 'which', 'whichever', 'while', 'whilst', 'whither', 'isnt', 'ill', 'who', 'whod', 'whoever',\n",
    "            'whole', 'wholl', 'whom', 'arent', 'whomever', 'gonna', 'whos', 'hes', 'whose', 'why', 'will',\n",
    "            'willing', 'wish', 'with', 'within', 'without', 'wonder', 'wont', 'would', 'wouldnt', 'yes', 'yet',\n",
    "            'you', 'youd', 'youll', 'your', 'youre', 'yours', 'yourself', 'yourselves', 'youve', 'zerof',\n",
    "            'rpeople', 'thi', 'people', 'hate', 'good', 'love', 'time']\n",
    "\n",
    "\n",
    "def topNwords(df, words, N, skip=[]):\n",
    "    \"\"\"\n",
    "    Funció que crea un diccionari amb les N paraules més representatives \n",
    "    (les que apareixen amb més freqüència) de cadascuna de les categories de cyberbullying.\n",
    "    \n",
    "    Tingueu en compte que també haureu de filtrar aquelles paraules que apareixen en la majoria \n",
    "    de tweets, així com també, les que únicament apareixen en un conjunt molt petit de tweets\n",
    "    \n",
    "    :param df: DataFrame amb els tweets i la informació associada\n",
    "    :param words: diccionari amb les paraules i la seva frequencia\n",
    "    :param N: número de paraules més representatives que volem considerar\n",
    "    :return : Diccionari amb el format {categoria1: llista_top_words_cat_1,  \n",
    "                                        categoria2: llista_top_words_cat_2, ...} \n",
    "    \"\"\"\n",
    "    top_words=dict()\n",
    "    \n",
    "    def each_word(topic, word):\n",
    "        word = normalize(word)\n",
    "        if word not in skip:\n",
    "            return words[topic][word]['n_ocur']\n",
    "        return 0\n",
    "    \n",
    "    for topic in words:\n",
    "        top_words[topic] = sorted(words[topic], key=lambda x: each_word(topic, x))[-N:][::-1]\n",
    "    \n",
    "    return top_words"
   ]
  },
  {
   "cell_type": "code",
   "execution_count": null,
   "metadata": {},
   "outputs": [],
   "source": []
  },
  {
   "cell_type": "code",
   "execution_count": 46,
   "metadata": {},
   "outputs": [
    {
     "name": "stdout",
     "output_type": "stream",
     "text": [
      "age\n",
      "['school', 'high', 'bullied', 'bully', 'girls', 'girl', 'bullies', 'middle', 'kids', 'friends', 'schools', 'life', 'always', 'bullying', 'years', 'kid', 'shit', 'day', 'year']\n",
      "ethnicity\n",
      "['dumb', 'fuck', 'nigger', 'ass', 'black', 'white', 'niggers', 'obama', 'bitch', 'called', 'racism', 'fucking', 'shit', 'negro', 'racist', 'colored', 'disgusting', 'nigga', 'mad']\n",
      "gender\n",
      "['rape', 'gay', 'jokes', 'joke', 'call', 'sexist', 'bitch', 'female', 'women', 'funny', 'mkr', 'men', 'man', 'fucking', 'gays', 'bitches', 'females', 'girls', 'feminazi']\n",
      "not_cyberbullying\n",
      "['mkr', 'bullying', 'bully', 'school', 'kat', 'andre', 'lol', 'women', 'shit', 'class', 'fuck', 'isis', 'bad', 'twitter', 'stop', 'day', 'today', 'islam', 'daesh']\n",
      "other_cyberbullying\n",
      "['bully', 'fucking', 'mkr', 'bullying', 'bullied', 'idiot', 'twitter', 'women', 'ass', 'bad', 'lol', 'feminazi', 'stop', 'fuck', 'shit', 'blameonenotall', 'stupid', 'pretty', 'gamergate']\n",
      "religion\n",
      "['muslims', 'muslim', 'idiot', 'christian', 'idiots', 'islamic', 'islam', 'terrorism', 'radical', 'support', 'woman', 'terrorist', 'isis', 'terrorists', 'quran', 'christians', 'jihad', 'humanity', 'religion']\n"
     ]
    }
   ],
   "source": [
    "top_words = topNwords(df_tweets_train, words_categories, 19, skip_top)\n",
    "\n",
    "\n",
    "for i in top_words.keys():\n",
    "    print(i)\n",
    "    print(top_words[i])\n"
   ]
  },
  {
   "cell_type": "markdown",
   "metadata": {},
   "source": [
    "El resultat serà un diccionari tipus (no necessàriament amb aquest valors):\n",
    "\n",
    "```python\n",
    "{\n",
    "    'age': ['school', 'high', ...],\n",
    "    ...\n",
    "    'religion': ['muslims', 'christian',...]\n",
    "    ...\n",
    "}\n",
    "```"
   ]
  },
  {
   "cell_type": "markdown",
   "metadata": {},
   "source": [
    "> Una pista de que aneu ben encaminats es que per cadascuna de les categories de cyberbullying obtingueu paraules rellevants per aquesta. Si no es així, vol dir que heu d'incrementar el nombre de paraules a saltar (*skip_top*)."
   ]
  },
  {
   "cell_type": "markdown",
   "metadata": {},
   "source": [
    "> EXPERIMENTEU AQUÍ QUÈ PASSA SEGONS LES \"STOP WORDS\" QUE USEU."
   ]
  },
  {
   "cell_type": "code",
   "execution_count": null,
   "metadata": {},
   "outputs": [],
   "source": []
  },
  {
   "cell_type": "markdown",
   "metadata": {},
   "source": [
    "### Vector de Característiques\n",
    "\n",
    "#### **EXERCICI 6:** \n",
    "\n",
    "Creeu el vector de característiques necessari per a fer l’entrenament del Naïve Bayes."
   ]
  },
  {
   "cell_type": "code",
   "execution_count": 29,
   "metadata": {
    "tags": []
   },
   "outputs": [],
   "source": [
    "def create_features(df, top_words): \n",
    "    \"\"\"\n",
    "    Funció que crea un vector de característiques necessari per a l'entrenament del classificador Naive Bayes\n",
    "    \n",
    "    :params df: DataFrame amb els tweets i la informació associada\n",
    "    :params top_words: ha de ser el diccionari que retorna topNWords\n",
    "    :return : diccionari o pd.Series que conté un np.array per a cadascuna dels tweets amb el vector de característiques corresponent.\n",
    "    \"\"\"\n",
    " \n",
    "    def features(tweet):\n",
    "        \n",
    "        # Fem servir només n word uniques i si ja está utlitzada no la tornarem a utilitzar\n",
    "        used = set()\n",
    "        tweet = normalize(tweet)\n",
    "        tweet = tweet.split()\n",
    "        \n",
    "        vector = []\n",
    "\n",
    "        for category in top_words:\n",
    "            for word in top_words[category]:\n",
    "                if word not in used:\n",
    "                    used.add(word)\n",
    "                    if word in tweet:\n",
    "                        vector.append(1)\n",
    "                    else:\n",
    "                        vector.append(0)\n",
    "                \n",
    "        return np.array(vector)\n",
    "        \n",
    "    return df['tweet_text'].apply(features)\n",
    "    "
   ]
  },
  {
   "cell_type": "code",
   "execution_count": 30,
   "metadata": {
    "tags": []
   },
   "outputs": [
    {
     "data": {
      "text/plain": [
       "85"
      ]
     },
     "execution_count": 30,
     "metadata": {},
     "output_type": "execute_result"
    }
   ],
   "source": [
    "N = 19 #Aquest parametre el podem canviar i fer proves per avaluar quin és el millor valor. \n",
    "words_categories = count_words_categories(df_tweets_train)\n",
    "top_words = topNwords(df_tweets_train, words_categories, N, skip_top)\n",
    "dict_feat_vector = create_features(df_tweets_train, top_words)\n",
    "len(dict_feat_vector[0])"
   ]
  },
  {
   "cell_type": "markdown",
   "metadata": {},
   "source": [
    "El resultat serà un diccionari tipus (no necessàriament amb aquest valors):\n",
    "\n",
    "```python\n",
    "{\n",
    "    0: np.array([0, 1, 1, 0, ...]),\n",
    "    1: np.array([0, 1, 1, 1, ...]),\n",
    "    ...\n",
    "}\n",
    "```"
   ]
  },
  {
   "cell_type": "markdown",
   "metadata": {},
   "source": [
    "Com podem observar, hi ha un vector de característiques per cadascun dels tweets en entrenament. El que esperem és que aquest vector ens estigui donant informació del que posa a cada tweet."
   ]
  },
  {
   "cell_type": "code",
   "execution_count": 31,
   "metadata": {},
   "outputs": [
    {
     "data": {
      "text/plain": [
       "(38153, 2)"
      ]
     },
     "execution_count": 31,
     "metadata": {},
     "output_type": "execute_result"
    }
   ],
   "source": [
    "df_tweets_train.shape"
   ]
  },
  {
   "cell_type": "markdown",
   "metadata": {},
   "source": [
    "### El classificador Naïve Bayes\n",
    "\n",
    "Un cop tenim una representació necessitem un procés d'aprenentatge que ens permeti passar de la descripció a una categoria. \n",
    "En aquest lliurament farem servir el classificador Naïve Bayes. \n",
    "Aquest classificador forma part de la família de classificadors probabilístics. \n",
    "La sortida d'un classificador probabilístic és un valor de probabilitat donat un exemple per cadascuna de les categories. \n",
    "La decisió final correspon a la categoria amb més probabilitat. \n",
    "\n",
    "\n",
    "Els classificadors probabilistics Bayesians es basen en el teorema de Bayes per realitzar els càlculs per trobar la probabilitat condicionada: \n",
    "$$ p(x,y) = p(x|y)p(y) = p(y|x)p(x)$$\n",
    "d'on podem extreure que: \n",
    "$$ p(y|x) = \\frac{p(x|y)p(y)}{p(x)}$$\n",
    "\n",
    "\n",
    "En molts casos $p(y)$ i $p(x)$ són desconeguts i es consideren equiprobables. \n",
    "Per tant, la decisió es simplifica a:\n",
    "$$ p(y|x) = p(y) · p(x|y)$$\n",
    "\n",
    "\n",
    "Les deduccions fins a aquest punt són vàlides per la majoria de classificadors Bayesians. \n",
    "Naïve Bayes es distingeix de la resta perquè imposa una condició encara més restrictiva. \n",
    "Considerem $x=(x_1, \\cdots, x_n)$ un conjunt d'$N$ variables aleatòries. \n",
    "Naïve Bayes assumeix que totes elles són independents entre elles i per tant podem escriure:\n",
    "$$p(x_1,x_2,...,x_N | y) = p(x_1|y)p(x_2|y)...p(x_N|y)$$\n",
    "\n",
    "\n",
    "Podem interpretar l'anterior equació de la següent forma: La probabilitat de que el tweet descrit pel vector de característiques (0,1,0,1,1,1) sigui de la classe \"gender\" és proporcional al producte de la probabilitat que la primera paraula del vector no aparegui en els tweets sobre \"gender\" per la probabilitat que la segona paraula sí que hi aparegui, etc.\n",
    "\n",
    "\n",
    "**Estimant les probabilitats marginals condicionades**\n",
    "\n",
    "L'últim pas que ens queda és trobar el valor de les probabilitats condicionades. \n",
    "Farem servir la representació de $0$'s i $1$'s indicant que la paraula no apareix (0) o sí apareix (1) a al tweet. \n",
    "Per trobar el valor de la probabilitat condicionada farem servir una aproximació freqüentista a la probabilitat. \n",
    "Això vol dir que calcularem la freqüència d'aparició de cada paraula per a cada categoria. \n",
    "Aquest càlcul es fa dividint el nombre de tweets de la categoria en que apareix la paraula pel nombre total de tweets d'aquella categoria. \n",
    "\n",
    "En gneral:\n",
    "$$p(x = \\text{\"school\"} | y = C)= \\frac{A}{B} $$\n",
    "on A és el número de tweets de la categoria C on hi apareix la paraula 'school' i B és el número total de tweets de la categoria C.\n",
    "\n",
    "\n",
    "### Punts dèbils:\n",
    "\n",
    "**El problema de la probabilitat 0**\n",
    "\n",
    "Si us hi fixeu bé, la probabilitatpot ser 0 !!  Això vol dir, que si en el tweet no hi apareix una paraula no pot ser classificada com cap tipus de cyber bullying.\n",
    "\n",
    "No sembla raonable que s'assigni o no en aquesta categoria segons si en el tweet hi apareix o no una única paraula. \n",
    "Per tant, el que s'acostuma a fer és donar una baixa probabilitat en comptes de zero. \n",
    "Una de les possibles solucions es fer servir la correcció de Laplace. \n",
    "Seguint l'exemple anterior la correcció de Laplace és\n",
    "$$p(x= \\text{\"school\"} | y = 'C' ) = \\frac{A+1}{B+M}$$ \n",
    "on M és el nombre de categories\n",
    "\n",
    "**El problema del \"underflow\"**\n",
    "\n",
    "La funció que hem de calcular en el Naive Bayes és un producte. \n",
    "El nombre de caractéristiques del vector és el nombre de termes del producte. \n",
    "Aquests nombres són iguals o menors a 1, si els multipliquem tots entre ells el resultat serà massa petit per a representar-lo en un nombre de punt flotant i el càlcul acabarà sent reduït a zero. \n",
    "Per solucionar aquest problema en comptes d'operar fent multiplicacions, se sol passar a l'escala logarítmica i allà operar fent servir sumes en comptes de multiplicacions."
   ]
  },
  {
   "cell_type": "markdown",
   "metadata": {},
   "source": [
    "#### **EXERCICI 7:** \n",
    "\n",
    "Implementeu la funció d'aprenentatge del classificador Naïve Bayes (funció **naive_bayes_learn()**). La funció ha de mostrar per pantalla el resultat obtingut \n",
    "L'**error d'entrenament** es troba calculant el percentatge d'errors que s'obtenen quan es fa el testeig amb les mateixes dades utilizades per fer entrenament (aprenentatge). Aquest error es un valor molt optimista de com funcionarà el clasificador i mai s'ha de prendre com a mesura per comparar clasificadors. \n",
    "\n",
    "1) Programeu la funció **naive_bayes_learn** per a que estimi les probabilitats marginals condicionades.\n",
    "2) Programeu la funció **naive_bayes** que implementa el classificador. Noteu que aquesta funció está guiada i només haureu d'emplenar els espais on hem posat tres punts suspensius \"#···\"."
   ]
  },
  {
   "cell_type": "code",
   "execution_count": 32,
   "metadata": {},
   "outputs": [],
   "source": [
    "def naive_bayes_learn(df, feats):\n",
    "    \"\"\"\n",
    "    Funció que estima les probabilitats marginals condicionades.\n",
    "    \n",
    "    :params df: DataFrame amb els tweets i la informació associada\n",
    "    :params feats: objecte Series que conte els vectors de característiques de cada tweet\n",
    "    :return : probabilitats marginals condicionades\n",
    "    \"\"\"\n",
    "    n_feats = len(feats)\n",
    "    n_feats_all = feats.sum(axis=0)\n",
    "    \n",
    "    def forEachCat(category):\n",
    "  \n",
    "        category_feats = feats[df['cyberbullying_type'] == category]\n",
    "        n_tweets = len(category_feats)\n",
    "        n_tweets_category = category_feats.sum(axis=0)\n",
    "        \n",
    "        # Normalitzem \n",
    "        probs = (n_tweets_category + 1) / (n_feats_all + n_feats)\n",
    "        \n",
    "        return probs\n",
    "    \n",
    "    probs = {}\n",
    "    \n",
    "    for category in df['cyberbullying_type'].unique():\n",
    "        probs[category] = forEachCat(category)\n",
    "    \n",
    "\n",
    "    return probs   "
   ]
  },
  {
   "cell_type": "code",
   "execution_count": 33,
   "metadata": {
    "tags": []
   },
   "outputs": [],
   "source": [
    "import sys\n",
    "from IPython import embed\n",
    "def naive_bayes(df_train, feat_train, feat_test=None, df_test=None):\n",
    "    \"\"\"\n",
    "    Funció que implementa el clasificador Naive_Bayes.\n",
    "    \n",
    "    Si df_test no és None, ha de calcular l'encert sobre les dades de test. És a dir,\n",
    "    després de classificar feat_test ha de comparar la classificació amb la classe\n",
    "    real i dir (print) quin percentatge d'encert ha obtingut.\n",
    "    \n",
    "    :param df_train: DataFrame amb els tweets que s'utilitzaran per l'entrenament\n",
    "    :param feat_train: Diccionari amb els vectors de caracteristiques de cada tweet de l'entrenament\n",
    "    :param feat_test: Diccionari amb els vectors de caracteristiques de cada tweet de test\n",
    "    :param df_test: DataFrame amb els tweets que s'utilitzaran pel test\n",
    "    \n",
    "    :return : Una serie on l'index correspon amb els indexos de df_test i els valors són la\n",
    "        classificació retornada per Naive Bayes\n",
    "    \"\"\"\n",
    "    probs = naive_bayes_learn(df_train, feat_train)\n",
    "    p_of_cat = count_words_categories(df_train)\n",
    "    p_total = len(p_of_cat.keys())\n",
    "    \n",
    "    def eachFeats(row):\n",
    "        id, feat = row\n",
    "        p_max = float('-inf')\n",
    "        p_cat = 0\n",
    "\n",
    "        for category in probs:\n",
    "            # Speed up by using numpy\n",
    "            # inv is the inverse of features, 0 where 1 and 1 where 0\n",
    "            inv = abs(1 - feat)\n",
    "            \n",
    "            # Probs * feats is the probability of being there, while\n",
    "            # inv - inv * feat = 1 - (0, 1, 0... inverses) * probs, probability of not being there\n",
    "            # So we multiply the two and sum them\n",
    "            p = probs[category] * feat + inv - inv * probs[category]\n",
    "            \n",
    "            # Sum of logs [vs] underflow caused by mul of prob  \n",
    "            p = np.sum(np.log(p))\n",
    "            \n",
    "            # Take the max, do it now to avoid extra-loops.\n",
    "            if p > p_max:\n",
    "                p_max = p\n",
    "                p_cat = category\n",
    "         \n",
    "                \n",
    "        return id, p_cat\n",
    "    \n",
    "    \n",
    "    data = map(eachFeats, feat_test.items())\n",
    "    data = pd.Series(dict(data))\n",
    "    correct = data == df_test['cyberbullying_type']\n",
    "    print(\"Accuracy: {}\".format(correct.sum() / correct.size))\n",
    "    \n",
    "    return correct.sum() / correct.size"
   ]
  },
  {
   "cell_type": "code",
   "execution_count": 34,
   "metadata": {},
   "outputs": [],
   "source": [
    "N = 19 # Aquest parametre el podem canviar i fer proves per avaluar quin és el millor valor. \n",
    "words_topics = count_words_categories(df_tweets_train)\n",
    "top_words = topNwords(df_tweets_train, words_topics, N, skip_top)\n",
    "\n",
    "feat_train = create_features(df_tweets_train, top_words)\n",
    "feat_test = create_features(df_tweets_test, top_words)\n"
   ]
  },
  {
   "cell_type": "code",
   "execution_count": 35,
   "metadata": {},
   "outputs": [
    {
     "name": "stdout",
     "output_type": "stream",
     "text": [
      "Accuracy: 0.7529091099695985\n"
     ]
    }
   ],
   "source": [
    "accuracy = naive_bayes(df_tweets_train, feat_train, feat_test, df_tweets_test)"
   ]
  },
  {
   "cell_type": "markdown",
   "metadata": {},
   "source": [
    "Haurieu d'obtenir una accuracy del 69-70%. Si heu arribat a això ja està bé! \n",
    "\n",
    "En canvi, per aquells que vulguin tenir alguns **PUNTS EXTRA**, us retem a aconseguir una accuracy més alta. A veure què podeu fer!!!\n",
    "\n"
   ]
  },
  {
   "cell_type": "markdown",
   "metadata": {},
   "source": [
    "**IMPLEMENTACIÓ DE MILLORA**:"
   ]
  },
  {
   "cell_type": "code",
   "execution_count": 36,
   "metadata": {},
   "outputs": [
    {
     "name": "stdout",
     "output_type": "stream",
     "text": [
      "Accuracy: 0.7685452162516383\n",
      "Accuracy: 0.7528178243774574\n",
      "Accuracy: 0.7648754914809961\n",
      "Accuracy: 0.7560272536687631\n",
      "Accuracy: 0.746002621231979\n",
      "Accuracy: 0.7515072083879424\n",
      "Accuracy: 0.7476415094339622\n",
      "Accuracy: 0.7570117955439056\n",
      "Accuracy: 0.7659239842726081\n",
      "Accuracy: 0.759958071278826\n",
      "Accuracy after cross validation: 0.7570310975928078\n"
     ]
    }
   ],
   "source": [
    "def cross_validation(df, feats, n_folds=15):\n",
    "    \"\"\"\n",
    "    Funció que implementa la validació creuada.\n",
    "    \n",
    "    :param df: DataFrame amb els tweets i la informació associada\n",
    "    :param feats: Diccionari amb els vectors de caracteristiques de cada tweet\n",
    "    :param n_folds: nombre de particions que es faran per fer la validació creuada\n",
    "    \n",
    "    :return : Una llista amb els valors de l'encert per cada partició\n",
    "    \"\"\"\n",
    "    accuracies = []\n",
    "    df = df.sample(frac=1)\n",
    "    df = df.reset_index(drop=True)\n",
    "    \n",
    "    for i in range(n_folds):\n",
    "        start = i * len(df) // n_folds\n",
    "        end = (i + 1) * len(df) // n_folds\n",
    "        \n",
    "        df_train = df.drop(df.index[start:end])\n",
    "        df_test = df[start:end]\n",
    "        \n",
    "        feat_train = create_features(df_train, top_words)\n",
    "        feat_test = create_features(df_test, top_words)\n",
    "        \n",
    "        accuracy = naive_bayes(df_train, feat_train, feat_test, df_test)\n",
    "        accuracies.append(accuracy)\n",
    "        \n",
    "    return accuracies\n",
    "\n",
    "accuracies = cross_validation(df_tweets_train, feat_train, n_folds=10)\n",
    "print(\"Accuracy after cross validation: {}\".format(np.mean(accuracies)))"
   ]
  },
  {
   "cell_type": "code",
   "execution_count": 37,
   "metadata": {},
   "outputs": [],
   "source": [
    "def naive_bayes_improved(df_train, feat_train, feat_test=None, df_test=None):\n",
    "    \n",
    "    probs = naive_bayes_learn(df_train, feat_train)\n",
    "    p_of_cat = count_words_categories(df_train)\n",
    "    p_total = len(p_of_cat.keys())\n",
    "    \n",
    "    def eachFeats(row):\n",
    "        id, feat = row\n",
    "        p_max = float('-inf')\n",
    "        p_cat = 0\n",
    "\n",
    "        for category in probs:\n",
    "            # Speed up by using numpy\n",
    "            # inv is the inverse of features, 0 where 1 and 1 where 0\n",
    "            inv = abs(1 - feat)\n",
    "            \n",
    "            # Probs * feats is the probability of being there, while\n",
    "            # inv - inv * feat = 1 - (0, 1, 0... inverses) * probs, probability of not being there\n",
    "            # So we multiply the two and sum them\n",
    "            p = probs[category] * feat + inv - inv * probs[category]\n",
    "            \n",
    "            # Sum of logs [vs] underflow caused by mul of prob  \n",
    "            p = np.sum(np.log(p))\n",
    "\n",
    "            \n",
    "            # Take the max, do it now to avoid extra-loops.\n",
    "            if p > p_max:\n",
    "                p_max = p\n",
    "                p_cat = category\n",
    "\n",
    "        return id, p_cat\n",
    "\n",
    "    data = map(eachFeats, feat_test.items())\n",
    "    data = pd.Series(dict(data))\n",
    "    correct = data == df_test['cyberbullying_type']\n",
    "    print(\"Accuracy: {}\".format(correct.sum() / correct.size))\n",
    "\n",
    "    return correct.sum() / correct.size"
   ]
  },
  {
   "cell_type": "code",
   "execution_count": 38,
   "metadata": {},
   "outputs": [
    {
     "name": "stdout",
     "output_type": "stream",
     "text": [
      "Accuracy: 0.7529091099695985\n"
     ]
    }
   ],
   "source": [
    "N = 19 # Aquest parametre el podem canviar i fer proves per avaluar quin és el millor valor. \n",
    "words_topics = count_words_categories(df_tweets_train)\n",
    "top_words = topNwords(df_tweets_train, words_topics, N, skip_top)\n",
    "\n",
    "feat_train = create_features(df_tweets_train, top_words)\n",
    "feat_test = create_features(df_tweets_test, top_words)\n",
    "accuracy = naive_bayes_improved(df_tweets_train, feat_train, feat_test, df_tweets_test)"
   ]
  },
  {
   "cell_type": "code",
   "execution_count": null,
   "metadata": {},
   "outputs": [],
   "source": []
  }
 ],
 "metadata": {
  "kernelspec": {
   "display_name": "Python 3 (ipykernel)",
   "language": "python",
   "name": "python3"
  },
  "language_info": {
   "codemirror_mode": {
    "name": "ipython",
    "version": 3
   },
   "file_extension": ".py",
   "mimetype": "text/x-python",
   "name": "python",
   "nbconvert_exporter": "python",
   "pygments_lexer": "ipython3",
   "version": "3.9.12"
  }
 },
 "nbformat": 4,
 "nbformat_minor": 4
}
